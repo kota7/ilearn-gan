{
 "cells": [
  {
   "cell_type": "code",
   "execution_count": 1,
   "metadata": {},
   "outputs": [
    {
     "name": "stdout",
     "output_type": "stream",
     "text": [
      "tensorflow version is 2.1.0\n",
      "keras version is 2.2.4-tf\n"
     ]
    }
   ],
   "source": [
    "import tensorflow as tf\n",
    "print(\"tensorflow version is\", tf.__version__)\n",
    "print(\"keras version is\", tf.keras.__version__)\n",
    "\n",
    "from tensorflow.keras.layers import Dense\n",
    "from tensorflow.keras.models import Sequential\n",
    "from tensorflow.keras.optimizers import Adam\n",
    "import os\n",
    "import matplotlib.pyplot as plt\n",
    "import numpy as np\n",
    "%matplotlib inline\n",
    "\n",
    "os.makedirs(\"out1\", exist_ok=True)"
   ]
  },
  {
   "cell_type": "code",
   "execution_count": 2,
   "metadata": {},
   "outputs": [],
   "source": [
    "def generate_real_data(n_samples=100):\n",
    "    x = np.random.rand(n_samples) - 0.5\n",
    "    y = x*x\n",
    "    data = np.vstack((x, y)).transpose()\n",
    "    return data"
   ]
  },
  {
   "cell_type": "code",
   "execution_count": 3,
   "metadata": {},
   "outputs": [
    {
     "data": {
      "text/plain": [
       "<matplotlib.collections.PathCollection at 0x7f5833716588>"
      ]
     },
     "execution_count": 3,
     "metadata": {},
     "output_type": "execute_result"
    },
    {
     "data": {
      "image/png": "[encoded data removed]",
      "text/plain": [
       "<Figure size 432x288 with 1 Axes>"
      ]
     },
     "metadata": {
      "needs_background": "light"
     },
     "output_type": "display_data"
    }
   ],
   "source": [
    "data = generate_real_data(250)\n",
    "plt.scatter(data[:,0], data[:,1], alpha=0.3)"
   ]
  },
  {
   "cell_type": "code",
   "execution_count": 4,
   "metadata": {},
   "outputs": [],
   "source": [
    "def make_generator(latent_size=5, hidden_sizes=(15,), activation=\"relu\"):\n",
    "    model = Sequential()\n",
    "    for i, h in enumerate(hidden_sizes):\n",
    "        if i == 0:\n",
    "            model.add(Dense(h, input_dim=latent_size, activation=activation))\n",
    "        else:\n",
    "            model.add(Dense(h, activation=activation))            \n",
    "    model.add(Dense(2, activation=\"linear\"))\n",
    "    return model\n",
    "\n",
    "def make_discriminator(hidden_sizes=(25,), activation=\"relu\"):\n",
    "    model = Sequential()\n",
    "    for i, h in enumerate(hidden_sizes):\n",
    "        if i == 0:\n",
    "            model.add(Dense(h, input_dim=2, activation=activation))\n",
    "        else:\n",
    "            model.add(Dense(h, activation=activation))            \n",
    "    model.add(Dense(1, activation=\"sigmoid\"))\n",
    "    return model\n",
    "\n",
    "def make_gan(generator, discriminator, learning_rate=0.0001):\n",
    "    discriminator.trainable = True\n",
    "    discriminator.compile(loss=\"binary_crossentropy\",\n",
    "                          optimizer=Adam(learning_rate=learning_rate),\n",
    "                          metrics=[\"accuracy\"])\n",
    "    \n",
    "    discriminator.trainable = False\n",
    "    gan = Sequential([\n",
    "        generator,\n",
    "        discriminator\n",
    "    ])\n",
    "    gan.compile(loss=\"binary_crossentropy\",\n",
    "                optimizer=Adam(learning_rate=learning_rate),\n",
    "                metrics=[\"accuracy\"])\n",
    "    return gan"
   ]
  },
  {
   "cell_type": "code",
   "execution_count": 5,
   "metadata": {},
   "outputs": [],
   "source": [
    "def generate_latent(generator, n_samples=100):\n",
    "    latent_size = generator.input_shape[1]\n",
    "    x = np.random.randn(n_samples, latent_size)\n",
    "    return x\n",
    "\n",
    "def generate_fake_data(generator, n_samples=100):\n",
    "    x = generate_latent(generator, n_samples)\n",
    "    y = generator.predict(x)\n",
    "    return y"
   ]
  },
  {
   "cell_type": "code",
   "execution_count": 6,
   "metadata": {},
   "outputs": [],
   "source": [
    "def train_gan(generator, discriminator, gan, batchsize=128):\n",
    "    # update discriminator using real and fake data\n",
    "    halfbatch = int(batchsize/2)\n",
    "    real_x = generate_real_data(halfbatch)\n",
    "    real_y = np.ones((halfbatch, 1))\n",
    "    fake_x = generate_fake_data(generator, halfbatch)\n",
    "    fake_y = np.zeros((halfbatch, 1))\n",
    "    discriminator.train_on_batch(real_x, real_y)\n",
    "    res_d = discriminator.train_on_batch(fake_x, fake_y)\n",
    "    \n",
    "    # update generator using fake data\n",
    "    gan_x = generate_latent(generator, batchsize)\n",
    "    gan_y = np.ones((batchsize, 1))\n",
    "    res_g = gan.train_on_batch(gan_x, gan_y)\n",
    "    return res_d, res_g\n",
    "\n",
    "def eval_gan(generator, discriminator, iteration, name=\"\", batchsize=250, keepfig=False, savefig=True):\n",
    "    print(\"\")\n",
    "    real_x = generate_real_data(batchsize)\n",
    "    real_y = np.ones((batchsize, 1))\n",
    "    real_res = discriminator.evaluate(real_x, real_y, verbose=0)\n",
    "    \n",
    "    fake_x = generate_fake_data(generator, batchsize)\n",
    "    fake_y = np.zeros((batchsize, 1))\n",
    "    fake_res = discriminator.evaluate(fake_x, fake_y, verbose=0)\n",
    "    print(\"Iter %d: true positive rate = %.3f, true negative rate = %.3f\" % (\n",
    "        iteration, real_res[1], fake_res[1]))\n",
    "    fig, ax = plt.subplots()\n",
    "    ax.scatter(real_x[:,0], real_x[:,1], alpha=0.3, color=\"blue\", label=\"real\")\n",
    "    ax.scatter(fake_x[:,0], fake_x[:,1], alpha=0.3, color=\"red\", label=\"fake\")\n",
    "    if savefig:\n",
    "        fig.savefig(\"out1/%s_%07d.png\" % (name, iteration))\n",
    "    if not keepfig:\n",
    "        plt.close(fig)\n",
    "    return None"
   ]
  },
  {
   "cell_type": "code",
   "execution_count": 7,
   "metadata": {
    "scrolled": false
   },
   "outputs": [
    {
     "name": "stdout",
     "output_type": "stream",
     "text": [
      "* generator *\n",
      "Model: \"sequential\"\n",
      "_________________________________________________________________\n",
      "Layer (type)                 Output Shape              Param #   \n",
      "=================================================================\n",
      "dense (Dense)                (None, 15)                90        \n",
      "_________________________________________________________________\n",
      "dense_1 (Dense)              (None, 2)                 32        \n",
      "=================================================================\n",
      "Total params: 122\n",
      "Trainable params: 122\n",
      "Non-trainable params: 0\n",
      "_________________________________________________________________\n",
      "\n",
      "* discriminator *\n",
      "Model: \"sequential_1\"\n",
      "_________________________________________________________________\n",
      "Layer (type)                 Output Shape              Param #   \n",
      "=================================================================\n",
      "dense_2 (Dense)              (None, 25)                75        \n",
      "_________________________________________________________________\n",
      "dense_3 (Dense)              (None, 1)                 26        \n",
      "=================================================================\n",
      "WARNING:tensorflow:Discrepancy between trainable weights and collected trainable weights, did you set `model.trainable` without calling `model.compile` after ?\n",
      "Total params: 202\n",
      "Trainable params: 101\n",
      "Non-trainable params: 101\n",
      "_________________________________________________________________\n",
      "\n",
      "* GAN *\n",
      "Model: \"sequential_2\"\n",
      "_________________________________________________________________\n",
      "Layer (type)                 Output Shape              Param #   \n",
      "=================================================================\n",
      "sequential (Sequential)      (None, 2)                 122       \n",
      "_________________________________________________________________\n",
      "sequential_1 (Sequential)    (None, 1)                 101       \n",
      "=================================================================\n",
      "Total params: 223\n",
      "Trainable params: 122\n",
      "Non-trainable params: 101\n",
      "_________________________________________________________________\n"
     ]
    }
   ],
   "source": [
    "generator = make_generator()\n",
    "discriminator = make_discriminator()\n",
    "gan = make_gan(generator, discriminator)\n",
    "\n",
    "print(\"* generator *\")\n",
    "generator.summary()\n",
    "print(\"\\n* discriminator *\")\n",
    "discriminator.summary()\n",
    "print(\"\\n* GAN *\")\n",
    "gan.summary()"
   ]
  },
  {
   "cell_type": "code",
   "execution_count": 8,
   "metadata": {
    "scrolled": false
   },
   "outputs": [
    {
     "name": "stdout",
     "output_type": "stream",
     "text": [
      "\n",
      "Iter 0: true positive rate = 1.000, true negative rate = 0.120\n",
      "Iter   1000. loss = (0.681, 0.703), acc = (0.578, 0.414)\n",
      "Iter 1000: true positive rate = 0.668, true negative rate = 0.636\n",
      "Iter   2000. loss = (0.708, 0.679), acc = (0.234, 0.750)\n",
      "Iter 2000: true positive rate = 0.716, true negative rate = 0.256\n",
      "Iter   3000. loss = (0.708, 0.680), acc = (0.047, 0.945)\n",
      "Iter 3000: true positive rate = 1.000, true negative rate = 0.052\n",
      "Iter   4000. loss = (0.700, 0.686), acc = (0.266, 0.797)\n",
      "Iter 4000: true positive rate = 1.000, true negative rate = 0.188\n",
      "Iter   5000. loss = (0.697, 0.687), acc = (0.297, 0.812)\n",
      "Iter 5000: true positive rate = 0.952, true negative rate = 0.220\n",
      "Iter   6000. loss = (0.696, 0.690), acc = (0.266, 0.703)\n",
      "Iter 6000: true positive rate = 0.848, true negative rate = 0.304\n",
      "Iter   7000. loss = (0.697, 0.692), acc = (0.250, 0.648)\n",
      "Iter 7000: true positive rate = 0.776, true negative rate = 0.412\n",
      "Iter   8000. loss = (0.695, 0.692), acc = (0.281, 0.656)\n",
      "Iter 8000: true positive rate = 0.740, true negative rate = 0.344\n",
      "Iter   9000. loss = (0.696, 0.691), acc = (0.297, 0.664)\n",
      "Iter 9000: true positive rate = 0.736, true negative rate = 0.324\n",
      "Iter  10000. loss = (0.696, 0.691), acc = (0.266, 0.719)\n",
      "Iter 10000: true positive rate = 0.780, true negative rate = 0.244\n",
      "Iter  11000. loss = (0.693, 0.691), acc = (0.438, 0.734)\n",
      "Iter 11000: true positive rate = 0.780, true negative rate = 0.284\n",
      "Iter  12000. loss = (0.693, 0.692), acc = (0.406, 0.703)\n",
      "Iter 12000: true positive rate = 0.772, true negative rate = 0.388\n",
      "Iter  13000. loss = (0.695, 0.692), acc = (0.297, 0.719)\n",
      "Iter 13000: true positive rate = 0.760, true negative rate = 0.320\n",
      "Iter  14000. loss = (0.695, 0.691), acc = (0.344, 0.703)\n",
      "Iter 14000: true positive rate = 0.712, true negative rate = 0.304\n",
      "Iter  15000. loss = (0.695, 0.691), acc = (0.422, 0.609)\n",
      "Iter 15000: true positive rate = 0.692, true negative rate = 0.344\n"
     ]
    }
   ],
   "source": [
    "generator = make_generator()\n",
    "discriminator = make_discriminator()\n",
    "gan = make_gan(generator, discriminator)\n",
    "\n",
    "eval_gan(generator, discriminator, 0, name=\"square\") \n",
    "for i in range(15000):\n",
    "    res_d, res_g = train_gan(generator, discriminator, gan, batchsize=128)\n",
    "    print(\"\\rIter %6d. loss = (%.3f, %.3f), acc = (%.3f, %.3f)\" % (\n",
    "        i+1, res_d[0], res_g[0], res_d[1], res_g[1]), end=\"\")\n",
    "    if (i+1) % 1000 == 0:\n",
    "        eval_gan(generator, discriminator, i+1, name=\"square\")          "
   ]
  },
  {
   "cell_type": "code",
   "execution_count": 9,
   "metadata": {},
   "outputs": [
    {
     "name": "stdout",
     "output_type": "stream",
     "text": [
      "\n",
      "Iter 15000: true positive rate = 0.696, true negative rate = 0.420\n"
     ]
    },
    {
     "data": {
      "image/png": "[encoded data removed]",
      "text/plain": [
       "<Figure size 432x288 with 1 Axes>"
      ]
     },
     "metadata": {
      "needs_background": "light"
     },
     "output_type": "display_data"
    }
   ],
   "source": [
    "eval_gan(generator, discriminator, i+1, name=\"square\", savefig=False, keepfig=True)"
   ]
  },
  {
   "cell_type": "code",
   "execution_count": 10,
   "metadata": {},
   "outputs": [],
   "source": [
    "generator.save(\"out1/square-generator_%07d.h5\" % (i+1))\n",
    "discriminator.save(\"out1/square-discriminator_%07d.h5\" % (i+1))"
   ]
  },
  {
   "cell_type": "code",
   "execution_count": null,
   "metadata": {},
   "outputs": [],
   "source": []
  },
  {
   "cell_type": "code",
   "execution_count": 11,
   "metadata": {
    "scrolled": true
   },
   "outputs": [
    {
     "name": "stdout",
     "output_type": "stream",
     "text": [
      "\n",
      "Iter 0: true positive rate = 0.976, true negative rate = 0.032\n",
      "Iter   1000. loss = (0.649, 0.741), acc = (0.859, 0.188)\n",
      "Iter 1000: true positive rate = 0.448, true negative rate = 0.760\n",
      "Iter   2000. loss = (0.643, 0.753), acc = (1.000, 0.000)\n",
      "Iter 2000: true positive rate = 0.000, true negative rate = 1.000\n",
      "Iter   3000. loss = (0.683, 0.704), acc = (0.422, 0.617)\n",
      "Iter 3000: true positive rate = 0.804, true negative rate = 0.408\n",
      "Iter   4000. loss = (0.660, 0.721), acc = (0.891, 0.102)\n",
      "Iter 4000: true positive rate = 0.484, true negative rate = 0.876\n",
      "Iter   5000. loss = (0.660, 0.723), acc = (0.906, 0.242)\n",
      "Iter 5000: true positive rate = 0.444, true negative rate = 0.792\n",
      "Iter   6000. loss = (0.668, 0.717), acc = (0.688, 0.367)\n",
      "Iter 6000: true positive rate = 0.624, true negative rate = 0.640\n",
      "Iter   7000. loss = (0.680, 0.712), acc = (0.562, 0.398)\n",
      "Iter 7000: true positive rate = 0.572, true negative rate = 0.628\n",
      "Iter   8000. loss = (0.682, 0.704), acc = (0.578, 0.422)\n",
      "Iter 8000: true positive rate = 0.376, true negative rate = 0.584\n",
      "Iter   9000. loss = (0.686, 0.702), acc = (0.891, 0.141)\n",
      "Iter 9000: true positive rate = 0.304, true negative rate = 0.860\n",
      "Iter  10000. loss = (0.689, 0.700), acc = (0.516, 0.438)\n",
      "Iter 10000: true positive rate = 0.772, true negative rate = 0.536\n",
      "Iter  11000. loss = (0.689, 0.695), acc = (0.719, 0.383)\n",
      "Iter 11000: true positive rate = 0.500, true negative rate = 0.712\n",
      "Iter  12000. loss = (0.693, 0.694), acc = (0.531, 0.461)\n",
      "Iter 12000: true positive rate = 0.724, true negative rate = 0.496\n",
      "Iter  13000. loss = (0.694, 0.692), acc = (0.391, 0.633)\n",
      "Iter 13000: true positive rate = 0.884, true negative rate = 0.284\n",
      "Iter  14000. loss = (0.697, 0.690), acc = (0.344, 0.719)\n",
      "Iter 14000: true positive rate = 0.852, true negative rate = 0.332\n",
      "Iter  15000. loss = (0.695, 0.691), acc = (0.359, 0.562)\n",
      "Iter 15000: true positive rate = 0.756, true negative rate = 0.380\n",
      "Iter  16000. loss = (0.691, 0.692), acc = (0.625, 0.516)\n",
      "Iter 16000: true positive rate = 0.704, true negative rate = 0.416\n",
      "Iter  17000. loss = (0.695, 0.692), acc = (0.391, 0.508)\n",
      "Iter 17000: true positive rate = 0.676, true negative rate = 0.440\n",
      "Iter  18000. loss = (0.695, 0.693), acc = (0.344, 0.539)\n",
      "Iter 18000: true positive rate = 0.704, true negative rate = 0.416\n",
      "Iter  19000. loss = (0.694, 0.691), acc = (0.375, 0.656)\n",
      "Iter 19000: true positive rate = 0.708, true negative rate = 0.336\n",
      "Iter  20000. loss = (0.696, 0.690), acc = (0.391, 0.609)\n",
      "Iter 20000: true positive rate = 0.728, true negative rate = 0.440\n",
      "Iter  21000. loss = (0.694, 0.692), acc = (0.312, 0.625)\n",
      "Iter 21000: true positive rate = 0.776, true negative rate = 0.324\n",
      "Iter  22000. loss = (0.691, 0.693), acc = (0.500, 0.484)\n",
      "Iter 22000: true positive rate = 0.588, true negative rate = 0.428\n",
      "Iter  23000. loss = (0.694, 0.694), acc = (0.438, 0.508)\n",
      "Iter 23000: true positive rate = 0.588, true negative rate = 0.544\n",
      "Iter  24000. loss = (0.693, 0.693), acc = (0.422, 0.547)\n",
      "Iter 24000: true positive rate = 0.652, true negative rate = 0.428\n",
      "Iter  25000. loss = (0.695, 0.692), acc = (0.406, 0.609)\n",
      "Iter 25000: true positive rate = 0.588, true negative rate = 0.400\n",
      "Iter  26000. loss = (0.693, 0.693), acc = (0.453, 0.555)\n",
      "Iter 26000: true positive rate = 0.588, true negative rate = 0.488\n",
      "Iter  27000. loss = (0.692, 0.694), acc = (0.609, 0.492)\n",
      "Iter 27000: true positive rate = 0.460, true negative rate = 0.568\n",
      "Iter  28000. loss = (0.695, 0.692), acc = (0.359, 0.625)\n",
      "Iter 28000: true positive rate = 0.632, true negative rate = 0.416\n",
      "Iter  29000. loss = (0.690, 0.695), acc = (0.719, 0.430)\n",
      "Iter 29000: true positive rate = 0.444, true negative rate = 0.656\n",
      "Iter  30000. loss = (0.691, 0.696), acc = (0.703, 0.336)\n",
      "Iter 30000: true positive rate = 0.368, true negative rate = 0.704\n"
     ]
    }
   ],
   "source": [
    "def generate_real_data(n_samples=100):\n",
    "    x = np.random.random(n_samples) - 0.5\n",
    "    y = np.sin((x+0.5)*6.24)\n",
    "    data = np.vstack((x, y)).transpose()\n",
    "    return data\n",
    "\n",
    "generator = make_generator(latent_size=5, hidden_sizes=(16, 16))\n",
    "discriminator = make_discriminator(hidden_sizes=(32, 16))\n",
    "gan = make_gan(generator, discriminator)\n",
    "\n",
    "eval_gan(generator, discriminator, 0, name=\"sin\") \n",
    "for i in range(30000):\n",
    "    res_d, res_g = train_gan(generator, discriminator, gan, batchsize=128)\n",
    "    print(\"\\rIter %6d. loss = (%.3f, %.3f), acc = (%.3f, %.3f)\" % (\n",
    "        i+1, res_d[0], res_g[0], res_d[1], res_g[1]), end=\"\")\n",
    "    if (i+1) % 1000 == 0:\n",
    "        eval_gan(generator, discriminator, i+1, name=\"sin\") "
   ]
  },
  {
   "cell_type": "code",
   "execution_count": 12,
   "metadata": {},
   "outputs": [
    {
     "name": "stdout",
     "output_type": "stream",
     "text": [
      "\n",
      "Iter 30000: true positive rate = 0.280, true negative rate = 0.676\n"
     ]
    },
    {
     "data": {
      "image/png": "[encoded data removed]",
      "text/plain": [
       "<Figure size 432x288 with 1 Axes>"
      ]
     },
     "metadata": {
      "needs_background": "light"
     },
     "output_type": "display_data"
    }
   ],
   "source": [
    "eval_gan(generator, discriminator, i+1, name=\"square\", savefig=False, keepfig=True)"
   ]
  },
  {
   "cell_type": "code",
   "execution_count": 13,
   "metadata": {},
   "outputs": [],
   "source": [
    "generator.save(\"out1/sin-generator_%07d.h5\" % (i+1))\n",
    "discriminator.save(\"out1/sin-discriminator_%07d.h5\" % (i+1))"
   ]
  },
  {
   "cell_type": "code",
   "execution_count": null,
   "metadata": {},
   "outputs": [],
   "source": []
  },
  {
   "cell_type": "code",
   "execution_count": 14,
   "metadata": {},
   "outputs": [
    {
     "name": "stdout",
     "output_type": "stream",
     "text": [
      "\n",
      "Iter 0: true positive rate = 0.644, true negative rate = 0.960\n",
      "Iter   1000. loss = (0.643, 0.748), acc = (0.906, 0.117)\n",
      "Iter 1000: true positive rate = 0.580, true negative rate = 0.848\n",
      "Iter   2000. loss = (0.864, 0.549), acc = (0.250, 0.766)\n",
      "Iter 2000: true positive rate = 0.544, true negative rate = 0.232\n",
      "Iter   3000. loss = (0.694, 0.701), acc = (0.469, 0.484)\n",
      "Iter 3000: true positive rate = 0.256, true negative rate = 0.528\n",
      "Iter   4000. loss = (0.657, 0.719), acc = (0.750, 0.359)\n",
      "Iter 4000: true positive rate = 0.412, true negative rate = 0.704\n",
      "Iter   5000. loss = (0.658, 0.736), acc = (0.594, 0.367)\n",
      "Iter 5000: true positive rate = 0.584, true negative rate = 0.568\n",
      "Iter   6000. loss = (0.683, 0.706), acc = (0.703, 0.328)\n",
      "Iter 6000: true positive rate = 0.336, true negative rate = 0.752\n",
      "Iter   7000. loss = (0.675, 0.713), acc = (0.750, 0.242)\n",
      "Iter 7000: true positive rate = 0.472, true negative rate = 0.792\n",
      "Iter   8000. loss = (0.680, 0.704), acc = (0.734, 0.375)\n",
      "Iter 8000: true positive rate = 0.808, true negative rate = 0.728\n",
      "Iter   9000. loss = (0.679, 0.700), acc = (0.594, 0.461)\n",
      "Iter 9000: true positive rate = 0.944, true negative rate = 0.500\n",
      "Iter  10000. loss = (0.687, 0.697), acc = (0.484, 0.469)\n",
      "Iter 10000: true positive rate = 0.960, true negative rate = 0.488\n",
      "Iter  11000. loss = (0.694, 0.698), acc = (0.422, 0.594)\n",
      "Iter 11000: true positive rate = 0.960, true negative rate = 0.448\n",
      "Iter  12000. loss = (0.690, 0.694), acc = (0.453, 0.609)\n",
      "Iter 12000: true positive rate = 1.000, true negative rate = 0.356\n",
      "Iter  13000. loss = (0.688, 0.695), acc = (0.484, 0.555)\n",
      "Iter 13000: true positive rate = 0.880, true negative rate = 0.516\n",
      "Iter  14000. loss = (0.694, 0.690), acc = (0.312, 0.773)\n",
      "Iter 14000: true positive rate = 0.992, true negative rate = 0.256\n",
      "Iter  15000. loss = (0.698, 0.690), acc = (0.234, 0.664)\n",
      "Iter 15000: true positive rate = 0.912, true negative rate = 0.324\n",
      "Iter  16000. loss = (0.698, 0.692), acc = (0.219, 0.695)\n",
      "Iter 16000: true positive rate = 0.840, true negative rate = 0.324\n",
      "Iter  17000. loss = (0.694, 0.691), acc = (0.469, 0.555)\n",
      "Iter 17000: true positive rate = 0.740, true negative rate = 0.428\n",
      "Iter  18000. loss = (0.695, 0.693), acc = (0.344, 0.648)\n",
      "Iter 18000: true positive rate = 0.744, true negative rate = 0.380\n",
      "Iter  19000. loss = (0.693, 0.693), acc = (0.453, 0.617)\n",
      "Iter 19000: true positive rate = 0.756, true negative rate = 0.452\n",
      "Iter  20000. loss = (0.690, 0.693), acc = (0.531, 0.523)\n",
      "Iter 20000: true positive rate = 0.612, true negative rate = 0.484\n"
     ]
    }
   ],
   "source": [
    "def generate_real_data(n_samples=100):\n",
    "    theta = np.random.random(n_samples) * np.pi * 2\n",
    "    x = np.cos(theta)\n",
    "    y = np.sin(theta)\n",
    "    data = np.vstack((x, y)).transpose()\n",
    "    return data\n",
    "\n",
    "generator = make_generator(latent_size=5, hidden_sizes=(16,16))\n",
    "discriminator = make_discriminator(hidden_sizes=(32,16))\n",
    "gan = make_gan(generator, discriminator)\n",
    "\n",
    "eval_gan(generator, discriminator, 0, name=\"circle\") \n",
    "for i in range(20000):\n",
    "    res_d, res_g = train_gan(generator, discriminator, gan, batchsize=128)\n",
    "    print(\"\\rIter %6d. loss = (%.3f, %.3f), acc = (%.3f, %.3f)\" % (\n",
    "        i+1, res_d[0], res_g[0], res_d[1], res_g[1]), end=\"\")\n",
    "    if (i+1) % 1000 == 0:\n",
    "        eval_gan(generator, discriminator, i+1, name=\"circle\") "
   ]
  },
  {
   "cell_type": "code",
   "execution_count": 15,
   "metadata": {},
   "outputs": [
    {
     "name": "stdout",
     "output_type": "stream",
     "text": [
      "\n",
      "Iter 20000: true positive rate = 0.632, true negative rate = 0.488\n"
     ]
    },
    {
     "data": {
      "image/png": "[encoded data removed]",
      "text/plain": [
       "<Figure size 432x288 with 1 Axes>"
      ]
     },
     "metadata": {
      "needs_background": "light"
     },
     "output_type": "display_data"
    }
   ],
   "source": [
    "eval_gan(generator, discriminator, i+1, name=\"circle\", savefig=False, keepfig=True)"
   ]
  },
  {
   "cell_type": "code",
   "execution_count": 16,
   "metadata": {},
   "outputs": [],
   "source": [
    "generator.save(\"out1/circle-generator_%07d.h5\" % (i+1))\n",
    "discriminator.save(\"out1/circle-discriminator_%07d.h5\" % (i+1))"
   ]
  },
  {
   "cell_type": "code",
   "execution_count": null,
   "metadata": {},
   "outputs": [],
   "source": []
  }
 ],
 "metadata": {
  "kernelspec": {
   "display_name": "Python 3",
   "language": "python",
   "name": "python3"
  },
  "language_info": {
   "codemirror_mode": {
    "name": "ipython",
    "version": 3
   },
   "file_extension": ".py",
   "mimetype": "text/x-python",
   "name": "python",
   "nbconvert_exporter": "python",
   "pygments_lexer": "ipython3",
   "version": "3.6.10"
  }
 },
 "nbformat": 4,
 "nbformat_minor": 4
}

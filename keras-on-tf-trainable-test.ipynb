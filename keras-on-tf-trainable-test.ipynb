{
 "cells": [
  {
   "cell_type": "code",
   "execution_count": 1,
   "metadata": {},
   "outputs": [
    {
     "name": "stdout",
     "output_type": "stream",
     "text": [
      "tensorflow version is 2.1.0\n",
      "keras version is 2.2.4-tf\n"
     ]
    }
   ],
   "source": [
    "import tensorflow as tf\n",
    "print(\"tensorflow version is\", tf.__version__)\n",
    "print(\"keras version is\", tf.keras.__version__)\n",
    "\n",
    "from tensorflow.keras.models import Model, Sequential\n",
    "from tensorflow.keras.layers import Dense, Input\n",
    "import numpy as np"
   ]
  },
  {
   "cell_type": "code",
   "execution_count": 2,
   "metadata": {},
   "outputs": [],
   "source": [
    "def make_model(functional=False):\n",
    "    if functional:\n",
    "        x = Input((3,))\n",
    "        y = Dense(7)(x)\n",
    "        y = Dense(4)(y)\n",
    "        y = Dense(1)(y)\n",
    "        model = Model(inputs=x, outputs=y)\n",
    "        return model\n",
    "    else:\n",
    "        model = Sequential([\n",
    "            Dense(7, input_dim=3),\n",
    "            Dense(4),\n",
    "            Dense(1)\n",
    "        ])\n",
    "    return model\n",
    "\n",
    "def compile_model(model):\n",
    "    model.compile(loss=\"mse\", optimizer=\"adam\")\n",
    "    \n",
    "def train_model(model, batchsize=1):\n",
    "    x = np.random.randn(batchsize, 3)\n",
    "    y = np.random.randn(batchsize, 1)\n",
    "    model.train_on_batch(x, y)\n",
    "\n",
    "def check_weight_update(model, operation):\n",
    "    w1 = {w.name:w.numpy() for w in model.weights}\n",
    "    operation(model)\n",
    "    w2 = {w.name:w.numpy() for w in model.weights}\n",
    "    for i, name in enumerate(w1):\n",
    "        if np.allclose(w1[name], w2[name]):\n",
    "            print(\"weight %d (%s)\\tnot updated\" % (i, name))\n",
    "        else:\n",
    "            print(\"weight %d (%s)\\tupdated\" % (i, name))"
   ]
  },
  {
   "cell_type": "markdown",
   "metadata": {},
   "source": [
    "# Case 1: set whole model as not trainable, then compile\n",
    "\n",
    "If we set the whole model as not trainable, then none of the layers are update, as expected."
   ]
  },
  {
   "cell_type": "code",
   "execution_count": 3,
   "metadata": {},
   "outputs": [
    {
     "name": "stdout",
     "output_type": "stream",
     "text": [
      "Model: \"sequential\"\n",
      "_________________________________________________________________\n",
      "Layer (type)                 Output Shape              Param #   \n",
      "=================================================================\n",
      "dense (Dense)                (None, 7)                 28        \n",
      "_________________________________________________________________\n",
      "dense_1 (Dense)              (None, 4)                 32        \n",
      "_________________________________________________________________\n",
      "dense_2 (Dense)              (None, 1)                 5         \n",
      "=================================================================\n",
      "Total params: 65\n",
      "Trainable params: 0\n",
      "Non-trainable params: 65\n",
      "_________________________________________________________________\n",
      "WARNING:tensorflow:The list of trainable weights is empty. Make sure that you are not setting model.trainable to False before compiling the model.\n",
      "weight 0 (dense/kernel:0)\tnot updated\n",
      "weight 1 (dense/bias:0)\tnot updated\n",
      "weight 2 (dense_1/kernel:0)\tnot updated\n",
      "weight 3 (dense_1/bias:0)\tnot updated\n",
      "weight 4 (dense_2/kernel:0)\tnot updated\n",
      "weight 5 (dense_2/bias:0)\tnot updated\n"
     ]
    }
   ],
   "source": [
    "def operation(model):\n",
    "    model.trainable = False\n",
    "    compile_model(model)\n",
    "    model.summary()\n",
    "    train_model(model)\n",
    "\n",
    "model = make_model()\n",
    "check_weight_update(model, operation)"
   ]
  },
  {
   "cell_type": "code",
   "execution_count": 4,
   "metadata": {},
   "outputs": [
    {
     "name": "stdout",
     "output_type": "stream",
     "text": [
      "Model: \"model\"\n",
      "_________________________________________________________________\n",
      "Layer (type)                 Output Shape              Param #   \n",
      "=================================================================\n",
      "input_1 (InputLayer)         [(None, 3)]               0         \n",
      "_________________________________________________________________\n",
      "dense_3 (Dense)              (None, 7)                 28        \n",
      "_________________________________________________________________\n",
      "dense_4 (Dense)              (None, 4)                 32        \n",
      "_________________________________________________________________\n",
      "dense_5 (Dense)              (None, 1)                 5         \n",
      "=================================================================\n",
      "Total params: 65\n",
      "Trainable params: 0\n",
      "Non-trainable params: 65\n",
      "_________________________________________________________________\n",
      "WARNING:tensorflow:The list of trainable weights is empty. Make sure that you are not setting model.trainable to False before compiling the model.\n",
      "weight 0 (dense_3/kernel:0)\tnot updated\n",
      "weight 1 (dense_3/bias:0)\tnot updated\n",
      "weight 2 (dense_4/kernel:0)\tnot updated\n",
      "weight 3 (dense_4/bias:0)\tnot updated\n",
      "weight 4 (dense_5/kernel:0)\tnot updated\n",
      "weight 5 (dense_5/bias:0)\tnot updated\n"
     ]
    }
   ],
   "source": [
    "# same behavior for a model created by the functional API\n",
    "model = make_model(functional=True)\n",
    "check_weight_update(model, operation)"
   ]
  },
  {
   "cell_type": "markdown",
   "metadata": {},
   "source": [
    "# Case 2: set a specific layer as not trainable, then compile\n",
    "\n",
    "When setting a layer in the middle as not trainable, then this layer's weights are not update.\n",
    "The upstream layers are still updated; so the not-trainable does not mean the back propagation stops there.\n",
    "It just mean that the values of the weights are not updated during the training."
   ]
  },
  {
   "cell_type": "code",
   "execution_count": 5,
   "metadata": {},
   "outputs": [
    {
     "name": "stdout",
     "output_type": "stream",
     "text": [
      "Model: \"sequential_1\"\n",
      "_________________________________________________________________\n",
      "Layer (type)                 Output Shape              Param #   \n",
      "=================================================================\n",
      "dense_6 (Dense)              (None, 7)                 28        \n",
      "_________________________________________________________________\n",
      "dense_7 (Dense)              (None, 4)                 32        \n",
      "_________________________________________________________________\n",
      "dense_8 (Dense)              (None, 1)                 5         \n",
      "=================================================================\n",
      "Total params: 65\n",
      "Trainable params: 33\n",
      "Non-trainable params: 32\n",
      "_________________________________________________________________\n",
      "weight 0 (dense_6/kernel:0)\tupdated\n",
      "weight 1 (dense_6/bias:0)\tupdated\n",
      "weight 2 (dense_7/kernel:0)\tnot updated\n",
      "weight 3 (dense_7/bias:0)\tnot updated\n",
      "weight 4 (dense_8/kernel:0)\tupdated\n",
      "weight 5 (dense_8/bias:0)\tupdated\n"
     ]
    }
   ],
   "source": [
    "def operation(model):\n",
    "    model.layers[1].trainable = False\n",
    "    compile_model(model)\n",
    "    model.summary()\n",
    "    train_model(model)\n",
    "\n",
    "model = make_model()\n",
    "check_weight_update(model, operation)"
   ]
  },
  {
   "cell_type": "code",
   "execution_count": 6,
   "metadata": {},
   "outputs": [
    {
     "name": "stdout",
     "output_type": "stream",
     "text": [
      "Model: \"model_1\"\n",
      "_________________________________________________________________\n",
      "Layer (type)                 Output Shape              Param #   \n",
      "=================================================================\n",
      "input_2 (InputLayer)         [(None, 3)]               0         \n",
      "_________________________________________________________________\n",
      "dense_9 (Dense)              (None, 7)                 28        \n",
      "_________________________________________________________________\n",
      "dense_10 (Dense)             (None, 4)                 32        \n",
      "_________________________________________________________________\n",
      "dense_11 (Dense)             (None, 1)                 5         \n",
      "=================================================================\n",
      "Total params: 65\n",
      "Trainable params: 33\n",
      "Non-trainable params: 32\n",
      "_________________________________________________________________\n",
      "weight 0 (dense_9/kernel:0)\tupdated\n",
      "weight 1 (dense_9/bias:0)\tupdated\n",
      "weight 2 (dense_10/kernel:0)\tnot updated\n",
      "weight 3 (dense_10/bias:0)\tnot updated\n",
      "weight 4 (dense_11/kernel:0)\tupdated\n",
      "weight 5 (dense_11/bias:0)\tupdated\n"
     ]
    }
   ],
   "source": [
    "# same behavior for a model created by the functional API\n",
    "def operation(model):\n",
    "    # change the index because functional model includes input layer at top\n",
    "    model.layers[2].trainable = False\n",
    "    compile_model(model)\n",
    "    model.summary()\n",
    "    train_model(model)\n",
    "\n",
    "model = make_model(functional=True)\n",
    "check_weight_update(model, operation)"
   ]
  },
  {
   "cell_type": "markdown",
   "metadata": {},
   "source": [
    "## Note: modifying trainable changes the order of `model.weights`\n",
    "\n",
    "It seems that when trainable attribute for the layer 1 is changed, it is appended at last.\n",
    "To compare weights before and after, you can: \n",
    "- Use `model.get_weights()` this seems to return weights (as numpy array) in a consistent order; or\n",
    "- Use `model.weights` with name matching (as above)."
   ]
  },
  {
   "cell_type": "code",
   "execution_count": 7,
   "metadata": {},
   "outputs": [
    {
     "name": "stdout",
     "output_type": "stream",
     "text": [
      "dense_12/kernel:0\n",
      "dense_12/bias:0\n",
      "dense_13/kernel:0\n",
      "dense_13/bias:0\n",
      "dense_14/kernel:0\n",
      "dense_14/bias:0\n",
      "\n",
      "dense_12/kernel:0\n",
      "dense_12/bias:0\n",
      "dense_13/kernel:0\n",
      "dense_13/bias:0\n",
      "dense_14/kernel:0\n",
      "dense_14/bias:0\n"
     ]
    }
   ],
   "source": [
    "model = make_model()\n",
    "for w in model.weights:\n",
    "    print(w.name)\n",
    "print(\"\")\n",
    "model.layers[1].trainable = False\n",
    "for w in model.weights:\n",
    "    print(w.name)"
   ]
  },
  {
   "cell_type": "markdown",
   "metadata": {},
   "source": [
    "# Case 3: compile model, then set whole model as not trainable\n",
    "\n",
    "If we compile the model before changing the trainable attribute, then the weights are still updated."
   ]
  },
  {
   "cell_type": "code",
   "execution_count": 8,
   "metadata": {},
   "outputs": [
    {
     "name": "stdout",
     "output_type": "stream",
     "text": [
      "Model: \"sequential_3\"\n",
      "_________________________________________________________________\n",
      "Layer (type)                 Output Shape              Param #   \n",
      "=================================================================\n",
      "dense_15 (Dense)             (None, 7)                 28        \n",
      "_________________________________________________________________\n",
      "dense_16 (Dense)             (None, 4)                 32        \n",
      "_________________________________________________________________\n",
      "dense_17 (Dense)             (None, 1)                 5         \n",
      "=================================================================\n",
      "WARNING:tensorflow:Discrepancy between trainable weights and collected trainable weights, did you set `model.trainable` without calling `model.compile` after ?\n",
      "Total params: 130\n",
      "Trainable params: 65\n",
      "Non-trainable params: 65\n",
      "_________________________________________________________________\n",
      "weight 0 (dense_15/kernel:0)\tupdated\n",
      "weight 1 (dense_15/bias:0)\tupdated\n",
      "weight 2 (dense_16/kernel:0)\tupdated\n",
      "weight 3 (dense_16/bias:0)\tupdated\n",
      "weight 4 (dense_17/kernel:0)\tupdated\n",
      "weight 5 (dense_17/bias:0)\tupdated\n"
     ]
    }
   ],
   "source": [
    "def operation(model):\n",
    "    compile_model(model)\n",
    "    model.trainable = False\n",
    "    model.summary()\n",
    "    train_model(model)\n",
    "\n",
    "model = make_model()\n",
    "check_weight_update(model, operation)"
   ]
  },
  {
   "cell_type": "code",
   "execution_count": 9,
   "metadata": {},
   "outputs": [
    {
     "name": "stdout",
     "output_type": "stream",
     "text": [
      "Model: \"model_2\"\n",
      "_________________________________________________________________\n",
      "Layer (type)                 Output Shape              Param #   \n",
      "=================================================================\n",
      "input_3 (InputLayer)         [(None, 3)]               0         \n",
      "_________________________________________________________________\n",
      "dense_18 (Dense)             (None, 7)                 28        \n",
      "_________________________________________________________________\n",
      "dense_19 (Dense)             (None, 4)                 32        \n",
      "_________________________________________________________________\n",
      "dense_20 (Dense)             (None, 1)                 5         \n",
      "=================================================================\n",
      "Total params: 130\n",
      "Trainable params: 65\n",
      "Non-trainable params: 65\n",
      "_________________________________________________________________\n",
      "weight 0 (dense_18/kernel:0)\tupdated\n",
      "weight 1 (dense_18/bias:0)\tupdated\n",
      "weight 2 (dense_19/kernel:0)\tupdated\n",
      "weight 3 (dense_19/bias:0)\tupdated\n",
      "weight 4 (dense_20/kernel:0)\tupdated\n",
      "weight 5 (dense_20/bias:0)\tupdated\n"
     ]
    }
   ],
   "source": [
    "# same behavior for a model created by the functional API\n",
    "model = make_model(functional=True)\n",
    "check_weight_update(model, operation)"
   ]
  },
  {
   "cell_type": "markdown",
   "metadata": {},
   "source": [
    "# Case 4: compile model, then set a specific layer as not trainable\n",
    "\n",
    "This example does the same as the previous with a single layer.  This layer learns even after set as not trainable."
   ]
  },
  {
   "cell_type": "code",
   "execution_count": 10,
   "metadata": {},
   "outputs": [
    {
     "name": "stdout",
     "output_type": "stream",
     "text": [
      "Model: \"sequential_4\"\n",
      "_________________________________________________________________\n",
      "Layer (type)                 Output Shape              Param #   \n",
      "=================================================================\n",
      "dense_21 (Dense)             (None, 7)                 28        \n",
      "_________________________________________________________________\n",
      "dense_22 (Dense)             (None, 4)                 32        \n",
      "_________________________________________________________________\n",
      "dense_23 (Dense)             (None, 1)                 5         \n",
      "=================================================================\n",
      "Total params: 97\n",
      "Trainable params: 65\n",
      "Non-trainable params: 32\n",
      "_________________________________________________________________\n",
      "weight 0 (dense_21/kernel:0)\tupdated\n",
      "weight 1 (dense_21/bias:0)\tupdated\n",
      "weight 2 (dense_22/kernel:0)\tupdated\n",
      "weight 3 (dense_22/bias:0)\tupdated\n",
      "weight 4 (dense_23/kernel:0)\tupdated\n",
      "weight 5 (dense_23/bias:0)\tupdated\n"
     ]
    }
   ],
   "source": [
    "def operation(model):\n",
    "    compile_model(model)\n",
    "    model.layers[1].trainable = False\n",
    "    model.summary()\n",
    "    train_model(model)\n",
    "\n",
    "model = make_model()\n",
    "check_weight_update(model, operation)"
   ]
  },
  {
   "cell_type": "code",
   "execution_count": 11,
   "metadata": {},
   "outputs": [
    {
     "name": "stdout",
     "output_type": "stream",
     "text": [
      "Model: \"model_3\"\n",
      "_________________________________________________________________\n",
      "Layer (type)                 Output Shape              Param #   \n",
      "=================================================================\n",
      "input_4 (InputLayer)         [(None, 3)]               0         \n",
      "_________________________________________________________________\n",
      "dense_24 (Dense)             (None, 7)                 28        \n",
      "_________________________________________________________________\n",
      "dense_25 (Dense)             (None, 4)                 32        \n",
      "_________________________________________________________________\n",
      "dense_26 (Dense)             (None, 1)                 5         \n",
      "=================================================================\n",
      "Total params: 97\n",
      "Trainable params: 65\n",
      "Non-trainable params: 32\n",
      "_________________________________________________________________\n",
      "weight 0 (dense_24/kernel:0)\tupdated\n",
      "weight 1 (dense_24/bias:0)\tupdated\n",
      "weight 2 (dense_25/kernel:0)\tupdated\n",
      "weight 3 (dense_25/bias:0)\tupdated\n",
      "weight 4 (dense_26/kernel:0)\tupdated\n",
      "weight 5 (dense_26/bias:0)\tupdated\n"
     ]
    }
   ],
   "source": [
    "# same behavior for a model created by the functional API\n",
    "def operation(model):\n",
    "    compile_model(model)\n",
    "    model.layers[2].trainable = False\n",
    "    model.summary()\n",
    "    train_model(model)\n",
    "\n",
    "model = make_model(functional=True)\n",
    "check_weight_update(model, operation)"
   ]
  },
  {
   "cell_type": "code",
   "execution_count": null,
   "metadata": {},
   "outputs": [],
   "source": []
  }
 ],
 "metadata": {
  "kernelspec": {
   "display_name": "Python 3",
   "language": "python",
   "name": "python3"
  },
  "language_info": {
   "codemirror_mode": {
    "name": "ipython",
    "version": 3
   },
   "file_extension": ".py",
   "mimetype": "text/x-python",
   "name": "python",
   "nbconvert_exporter": "python",
   "pygments_lexer": "ipython3",
   "version": "3.6.10"
  }
 },
 "nbformat": 4,
 "nbformat_minor": 4
}

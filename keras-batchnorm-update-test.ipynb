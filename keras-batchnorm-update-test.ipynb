{
 "cells": [
  {
   "cell_type": "code",
   "execution_count": 19,
   "metadata": {},
   "outputs": [
    {
     "name": "stdout",
     "output_type": "stream",
     "text": [
      "tensorflow version is 2.1.0\n",
      "keras version is 2.2.4-tf\n"
     ]
    }
   ],
   "source": [
    "import tensorflow as tf\n",
    "print(\"tensorflow version is\", tf.__version__)\n",
    "print(\"keras version is\", tf.keras.__version__)\n",
    "from tensorflow.keras.layers import Dense, BatchNormalization\n",
    "from tensorflow.keras.models import Sequential\n",
    "import numpy as np"
   ]
  },
  {
   "cell_type": "code",
   "execution_count": 83,
   "metadata": {},
   "outputs": [],
   "source": [
    "def check_weight_update(model, operation):\n",
    "    w1 = {w.name:w.numpy() for w in model.weights}\n",
    "    operation(model)\n",
    "    w2 = {w.name:w.numpy() for w in model.weights}\n",
    "    for i, name in enumerate(w1):\n",
    "        if np.allclose(w1[name], w2[name]):\n",
    "            print(\"weight %d (%s)\\tnot updated\" % (i, name))\n",
    "        else:\n",
    "            print(\"weight %d (%s)\\tupdated\" % (i, name))    "
   ]
  },
  {
   "cell_type": "code",
   "execution_count": 68,
   "metadata": {},
   "outputs": [
    {
     "name": "stdout",
     "output_type": "stream",
     "text": [
      "weight 0 (dense_24/kernel:0)\tupdated\n",
      "weight 1 (dense_24/bias:0)\tupdated\n",
      "weight 2 (batch_normalization_12/gamma:0)\tupdated\n",
      "weight 3 (batch_normalization_12/beta:0)\tupdated\n",
      "weight 4 (batch_normalization_12/moving_mean:0)\tupdated\n",
      "weight 5 (batch_normalization_12/moving_variance:0)\tupdated\n",
      "weight 6 (dense_25/kernel:0)\tupdated\n",
      "weight 7 (dense_25/bias:0)\tupdated\n"
     ]
    }
   ],
   "source": [
    "def make_model():\n",
    "    return Sequential([Dense(3, input_dim=2), BatchNormalization(), Dense(1)])\n",
    "\n",
    "def operation(model):\n",
    "    model.trainable = True\n",
    "    model.compile(loss=\"mse\", optimizer=\"adam\")\n",
    "    x = np.random.randn(10, 2)\n",
    "    y = np.random.randn(10, 1)\n",
    "    model.train_on_batch(x, y)\n",
    "\n",
    "model = make_model()\n",
    "check_weight_update(model, operation)"
   ]
  },
  {
   "cell_type": "code",
   "execution_count": 91,
   "metadata": {},
   "outputs": [
    {
     "name": "stdout",
     "output_type": "stream",
     "text": [
      "weight 0 (dense_44/kernel:0)\tnot updated\n",
      "weight 1 (dense_44/bias:0)\tnot updated\n",
      "weight 2 (batch_normalization_22/gamma:0)\tnot updated\n",
      "weight 3 (batch_normalization_22/beta:0)\tnot updated\n",
      "weight 4 (batch_normalization_22/moving_mean:0)\tnot updated\n",
      "weight 5 (batch_normalization_22/moving_variance:0)\tnot updated\n",
      "weight 6 (dense_45/kernel:0)\tnot updated\n",
      "weight 7 (dense_45/bias:0)\tnot updated\n"
     ]
    }
   ],
   "source": [
    "def operation(model):\n",
    "    model.trainable = True\n",
    "    model.compile(loss=\"mse\", optimizer=\"adam\")\n",
    "    x = np.random.randn(10, 2)\n",
    "    model.predict(x)\n",
    "\n",
    "model = make_model()\n",
    "check_weight_update(model, operation)"
   ]
  },
  {
   "cell_type": "code",
   "execution_count": 93,
   "metadata": {},
   "outputs": [
    {
     "name": "stdout",
     "output_type": "stream",
     "text": [
      "weight 0 (dense_48/kernel:0)\tnot updated\n",
      "weight 1 (dense_48/bias:0)\tnot updated\n",
      "weight 2 (batch_normalization_24/gamma:0)\tnot updated\n",
      "weight 3 (batch_normalization_24/beta:0)\tnot updated\n",
      "weight 4 (batch_normalization_24/moving_mean:0)\tnot updated\n",
      "weight 5 (batch_normalization_24/moving_variance:0)\tnot updated\n",
      "weight 6 (dense_49/kernel:0)\tnot updated\n",
      "weight 7 (dense_49/bias:0)\tnot updated\n"
     ]
    }
   ],
   "source": [
    "def operation(model):\n",
    "    model.trainable = True\n",
    "    model.compile(loss=\"mse\", optimizer=\"adam\")\n",
    "    x = np.random.randn(10, 2)\n",
    "    y = np.random.randn(10, 1)\n",
    "    model.evaluate(x, y, verbose=False)\n",
    "\n",
    "model = make_model()\n",
    "check_weight_update(model, operation)"
   ]
  },
  {
   "cell_type": "code",
   "execution_count": 69,
   "metadata": {},
   "outputs": [
    {
     "name": "stdout",
     "output_type": "stream",
     "text": [
      "WARNING:tensorflow:The list of trainable weights is empty. Make sure that you are not setting model.trainable to False before compiling the model.\n",
      "weight 0 (dense_26/kernel:0)\tnot updated\n",
      "weight 1 (dense_26/bias:0)\tnot updated\n",
      "weight 2 (batch_normalization_13/gamma:0)\tnot updated\n",
      "weight 3 (batch_normalization_13/beta:0)\tnot updated\n",
      "weight 4 (batch_normalization_13/moving_mean:0)\tnot updated\n",
      "weight 5 (batch_normalization_13/moving_variance:0)\tnot updated\n",
      "weight 6 (dense_27/kernel:0)\tnot updated\n",
      "weight 7 (dense_27/bias:0)\tnot updated\n"
     ]
    }
   ],
   "source": [
    "def operation(model):\n",
    "    model.trainable = False\n",
    "    model.compile(loss=\"mse\", optimizer=\"adam\")\n",
    "    x = np.random.randn(10, 2)\n",
    "    y = np.random.randn(10, 1)\n",
    "    model.train_on_batch(x, y)\n",
    "\n",
    "model = make_model()\n",
    "check_weight_update(model, operation)"
   ]
  },
  {
   "cell_type": "code",
   "execution_count": 71,
   "metadata": {},
   "outputs": [
    {
     "name": "stdout",
     "output_type": "stream",
     "text": [
      "weight 0 (dense_30/kernel:0)\tupdated\n",
      "weight 1 (dense_30/bias:0)\tupdated\n",
      "weight 2 (batch_normalization_15/gamma:0)\tnot updated\n",
      "weight 3 (batch_normalization_15/beta:0)\tnot updated\n",
      "weight 4 (batch_normalization_15/moving_mean:0)\tnot updated\n",
      "weight 5 (batch_normalization_15/moving_variance:0)\tnot updated\n",
      "weight 6 (dense_31/kernel:0)\tupdated\n",
      "weight 7 (dense_31/bias:0)\tupdated\n"
     ]
    }
   ],
   "source": [
    "def operation(model):\n",
    "    model.trainable = True\n",
    "    model.layers[1].trainable = False\n",
    "    model.compile(loss=\"mse\", optimizer=\"adam\")\n",
    "    x = np.random.randn(10, 2)\n",
    "    y = np.random.randn(10, 1)\n",
    "    model.train_on_batch(x, y)\n",
    "\n",
    "model = make_model()\n",
    "check_weight_update(model, operation)"
   ]
  },
  {
   "cell_type": "code",
   "execution_count": 89,
   "metadata": {},
   "outputs": [
    {
     "name": "stdout",
     "output_type": "stream",
     "text": [
      "Model: \"sequential_25\"\n",
      "_________________________________________________________________\n",
      "Layer (type)                 Output Shape              Param #   \n",
      "=================================================================\n",
      "dense_40 (Dense)             (None, 5)                 20        \n",
      "_________________________________________________________________\n",
      "batch_normalization_20 (Batc (None, 5)                 20        \n",
      "_________________________________________________________________\n",
      "dense_41 (Dense)             (None, 2)                 12        \n",
      "=================================================================\n",
      "Total params: 52\n",
      "Trainable params: 42\n",
      "Non-trainable params: 10\n",
      "_________________________________________________________________\n",
      "***\n",
      "Model: \"sequential_26\"\n",
      "_________________________________________________________________\n",
      "Layer (type)                 Output Shape              Param #   \n",
      "=================================================================\n",
      "dense_42 (Dense)             (None, 7)                 21        \n",
      "_________________________________________________________________\n",
      "batch_normalization_21 (Batc (None, 7)                 28        \n",
      "_________________________________________________________________\n",
      "dense_43 (Dense)             (None, 1)                 8         \n",
      "=================================================================\n",
      "Total params: 57\n",
      "Trainable params: 43\n",
      "Non-trainable params: 14\n",
      "_________________________________________________________________\n",
      "***\n",
      "Model: \"sequential_27\"\n",
      "_________________________________________________________________\n",
      "Layer (type)                 Output Shape              Param #   \n",
      "=================================================================\n",
      "sequential_25 (Sequential)   (None, 2)                 52        \n",
      "_________________________________________________________________\n",
      "sequential_26 (Sequential)   (None, 1)                 57        \n",
      "=================================================================\n",
      "Total params: 109\n",
      "Trainable params: 85\n",
      "Non-trainable params: 24\n",
      "_________________________________________________________________\n"
     ]
    }
   ],
   "source": [
    "def make_composite_model():\n",
    "    m1 = Sequential([Dense(5, input_dim=3), BatchNormalization(), Dense(2)])\n",
    "    m2 = Sequential([Dense(7, input_dim=2), BatchNormalization(), Dense(1)])\n",
    "    m3 = Sequential([m1, m2])\n",
    "    return m1, m2, m3\n",
    "m1, m2, m3 = make_composite_model()\n",
    "\n",
    "m1.summary()\n",
    "print(\"***\")\n",
    "m2.summary()\n",
    "print(\"***\")\n",
    "m3.summary()"
   ]
  },
  {
   "cell_type": "code",
   "execution_count": 90,
   "metadata": {},
   "outputs": [
    {
     "name": "stdout",
     "output_type": "stream",
     "text": [
      "weight 0 (dense_40/kernel:0)\tupdated\n",
      "weight 1 (dense_40/bias:0)\tupdated\n",
      "weight 2 (batch_normalization_20/gamma:0)\tupdated\n",
      "weight 3 (batch_normalization_20/beta:0)\tupdated\n",
      "weight 4 (batch_normalization_20/moving_mean:0)\tupdated\n",
      "weight 5 (batch_normalization_20/moving_variance:0)\tupdated\n",
      "weight 6 (dense_41/kernel:0)\tupdated\n",
      "weight 7 (dense_41/bias:0)\tupdated\n",
      "weight 8 (dense_42/kernel:0)\tnot updated\n",
      "weight 9 (dense_42/bias:0)\tnot updated\n",
      "weight 10 (batch_normalization_21/gamma:0)\tnot updated\n",
      "weight 11 (batch_normalization_21/beta:0)\tnot updated\n",
      "weight 12 (batch_normalization_21/moving_mean:0)\tnot updated\n",
      "weight 13 (batch_normalization_21/moving_variance:0)\tnot updated\n",
      "weight 14 (dense_43/kernel:0)\tnot updated\n",
      "weight 15 (dense_43/bias:0)\tnot updated\n"
     ]
    }
   ],
   "source": [
    "def operation(*args):\n",
    "    m1.trainable = True\n",
    "    m2.trainable = False\n",
    "    m3.compile(loss=\"mse\", optimizer=\"adam\")\n",
    "    \n",
    "    x = np.random.randn(10, 3)\n",
    "    y = np.random.randn(10, 1)\n",
    "    m3.train_on_batch(x, y)\n",
    "\n",
    "check_weight_update(m3, operation)"
   ]
  },
  {
   "cell_type": "code",
   "execution_count": null,
   "metadata": {},
   "outputs": [],
   "source": []
  }
 ],
 "metadata": {
  "kernelspec": {
   "display_name": "Python 3",
   "language": "python",
   "name": "python3"
  },
  "language_info": {
   "codemirror_mode": {
    "name": "ipython",
    "version": 3
   },
   "file_extension": ".py",
   "mimetype": "text/x-python",
   "name": "python",
   "nbconvert_exporter": "python",
   "pygments_lexer": "ipython3",
   "version": "3.6.10"
  }
 },
 "nbformat": 4,
 "nbformat_minor": 4
}
